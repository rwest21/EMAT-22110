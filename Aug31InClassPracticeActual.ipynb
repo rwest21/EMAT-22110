{
 "cells": [
  {
   "cell_type": "markdown",
   "id": "3844de7f",
   "metadata": {},
   "source": [
    "# heading\n",
    "\n",
    "###### heading\n",
    "\n",
    "_italics_\n",
    "\n",
    "***bold italics***\n",
    "\n",
    "__bold__\n",
    "\n",
    "1. ordered\n",
    "2. list\n",
    "\n",
    "- not ordered\n",
    "\n",
    "![okami](https://th.bing.com/th/id/R.81981f8533571e730ceec8c746a1520c?rik=eMIqdo9hFXlh9w&pid=ImgRaw&r=0)\n",
    "\n",
    "\n",
    "\n",
    "[text](https://th.bing.com/th/id/R.81981f8533571e730ceec8c746a1520c?rik=eMIqdo9hFXlh9w&pid=ImgRaw&r=0)"
   ]
  },
  {
   "cell_type": "code",
   "execution_count": 3,
   "id": "456bfd8f",
   "metadata": {},
   "outputs": [],
   "source": [
    "myVariable = 3 + 4\n"
   ]
  },
  {
   "cell_type": "code",
   "execution_count": 4,
   "id": "897ef2a5",
   "metadata": {},
   "outputs": [
    {
     "data": {
      "text/plain": [
       "7"
      ]
     },
     "execution_count": 4,
     "metadata": {},
     "output_type": "execute_result"
    }
   ],
   "source": [
    "myVariable"
   ]
  },
  {
   "cell_type": "code",
   "execution_count": 2,
   "id": "bf5f2878",
   "metadata": {},
   "outputs": [
    {
     "data": {
      "text/plain": [
       "7"
      ]
     },
     "execution_count": 2,
     "metadata": {},
     "output_type": "execute_result"
    }
   ],
   "source": [
    "3+4"
   ]
  },
  {
   "cell_type": "markdown",
   "id": "10a709cf",
   "metadata": {},
   "source": [
    "# HEADERS\n",
    "\n",
    "markdown"
   ]
  },
  {
   "cell_type": "code",
   "execution_count": 6,
   "id": "27cae4a4",
   "metadata": {},
   "outputs": [
    {
     "name": "stdout",
     "output_type": "stream",
     "text": [
      "2\n",
      "3\n",
      "4\n",
      "5\n",
      "6\n"
     ]
    }
   ],
   "source": [
    "x = [0, 1, 2, 3, 4]\n",
    "for i in x:\n",
    "    z = i + 2\n",
    "    print(z)"
   ]
  },
  {
   "cell_type": "code",
   "execution_count": 2,
   "id": "417eed1e",
   "metadata": {},
   "outputs": [],
   "source": [
    "def sillything(x):\n",
    "    return \"silly \" + str(x)"
   ]
  },
  {
   "cell_type": "code",
   "execution_count": 3,
   "id": "37cc7dcd",
   "metadata": {},
   "outputs": [
    {
     "data": {
      "text/plain": [
       "'silly hi'"
      ]
     },
     "execution_count": 3,
     "metadata": {},
     "output_type": "execute_result"
    }
   ],
   "source": [
    "sillything(\"hi\")"
   ]
  },
  {
   "cell_type": "code",
   "execution_count": 4,
   "id": "21aa9f0f",
   "metadata": {},
   "outputs": [],
   "source": [
    "j = sillything(\"dog\")"
   ]
  },
  {
   "cell_type": "code",
   "execution_count": 5,
   "id": "5057ff07",
   "metadata": {},
   "outputs": [
    {
     "data": {
      "text/plain": [
       "'silly dog'"
      ]
     },
     "execution_count": 5,
     "metadata": {},
     "output_type": "execute_result"
    }
   ],
   "source": [
    "j"
   ]
  }
 ],
 "metadata": {
  "kernelspec": {
   "display_name": "Python 3 (ipykernel)",
   "language": "python",
   "name": "python3"
  },
  "language_info": {
   "codemirror_mode": {
    "name": "ipython",
    "version": 3
   },
   "file_extension": ".py",
   "mimetype": "text/x-python",
   "name": "python",
   "nbconvert_exporter": "python",
   "pygments_lexer": "ipython3",
   "version": "3.9.6"
  }
 },
 "nbformat": 4,
 "nbformat_minor": 5
}
